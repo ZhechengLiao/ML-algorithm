{
  "nbformat": 4,
  "nbformat_minor": 0,
  "metadata": {
    "colab": {
      "provenance": [],
      "authorship_tag": "ABX9TyMljiafQbE2mCJNNgs13+ZY",
      "include_colab_link": true
    },
    "kernelspec": {
      "name": "python3",
      "display_name": "Python 3"
    },
    "language_info": {
      "name": "python"
    }
  },
  "cells": [
    {
      "cell_type": "markdown",
      "metadata": {
        "id": "view-in-github",
        "colab_type": "text"
      },
      "source": [
        "<a href=\"https://colab.research.google.com/github/ZhechengLiao/ML-algorithm/blob/master/gda.ipynb\" target=\"_parent\"><img src=\"https://colab.research.google.com/assets/colab-badge.svg\" alt=\"Open In Colab\"/></a>"
      ]
    },
    {
      "cell_type": "code",
      "source": [
        "from google.colab import drive\n",
        "drive.mount('/content/gdrive')"
      ],
      "metadata": {
        "colab": {
          "base_uri": "https://localhost:8080/"
        },
        "id": "yyA1Qdj1eZQ_",
        "outputId": "f0790b91-30d2-43fb-f7e8-a2016fccaf85"
      },
      "execution_count": 1,
      "outputs": [
        {
          "output_type": "stream",
          "name": "stdout",
          "text": [
            "Mounted at /content/gdrive\n"
          ]
        }
      ]
    },
    {
      "cell_type": "code",
      "execution_count": 2,
      "metadata": {
        "id": "oIKMLVFTeNqV"
      },
      "outputs": [],
      "source": [
        "import matplotlib.pyplot as plt\n",
        "import numpy as np\n",
        "\n",
        "def add_intercept(x):\n",
        "    \"\"\"Add intercept to matrix x.\n",
        "\n",
        "    Args:\n",
        "        x: 2D NumPy array.\n",
        "\n",
        "    Returns:\n",
        "        New matrix same as x with 1's in the 0th column.\n",
        "    \"\"\"\n",
        "    new_x = np.zeros((x.shape[0], x.shape[1] + 1), dtype=x.dtype)\n",
        "    new_x[:, 0] = 1\n",
        "    new_x[:, 1:] = x\n",
        "\n",
        "    return new_x\n",
        "\n",
        "\n",
        "def load_dataset(csv_path, label_col='y', add_intercept=False):\n",
        "    \"\"\"Load dataset from a CSV file.\n",
        "\n",
        "    Args:\n",
        "         csv_path: Path to CSV file containing dataset.\n",
        "         label_col: Name of column to use as labels (should be 'y' or 't').\n",
        "         add_intercept: Add an intercept entry to x-values.\n",
        "\n",
        "    Returns:\n",
        "        xs: Numpy array of x-values (inputs).\n",
        "        ys: Numpy array of y-values (labels).\n",
        "    \"\"\"\n",
        "\n",
        "    def add_intercept_fn(x):\n",
        "        global add_intercept\n",
        "        return add_intercept(x)\n",
        "\n",
        "    # Validate label_col argument\n",
        "    allowed_label_cols = ('y', 't')\n",
        "    if label_col not in allowed_label_cols:\n",
        "        raise ValueError('Invalid label_col: {} (expected {})'\n",
        "                         .format(label_col, allowed_label_cols))\n",
        "\n",
        "    # Load headers\n",
        "    with open(csv_path, 'r') as csv_fh:\n",
        "        headers = csv_fh.readline().strip().split(',')\n",
        "\n",
        "    # Load features and labels\n",
        "    x_cols = [i for i in range(len(headers)) if headers[i].startswith('x')]\n",
        "    l_cols = [i for i in range(len(headers)) if headers[i] == label_col]\n",
        "    inputs = np.loadtxt(csv_path, delimiter=',', skiprows=1, usecols=x_cols)\n",
        "    labels = np.loadtxt(csv_path, delimiter=',', skiprows=1, usecols=l_cols)\n",
        "\n",
        "    if inputs.ndim == 1:\n",
        "        inputs = np.expand_dims(inputs, -1)\n",
        "\n",
        "    if add_intercept:\n",
        "        inputs = add_intercept_fn(inputs)\n",
        "\n",
        "    return inputs, labels"
      ]
    },
    {
      "cell_type": "code",
      "source": [
        "x_train, y_train = load_dataset('ds1_train.csv', add_intercept=False)\n",
        "x_test, y_test = load_dataset('ds1_valid.csv', add_intercept=False)\n",
        "x_train.shape"
      ],
      "metadata": {
        "colab": {
          "base_uri": "https://localhost:8080/"
        },
        "id": "fx_SCNqaeWQZ",
        "outputId": "6061df5e-931a-476d-e2a2-b4994d3edd59"
      },
      "execution_count": 4,
      "outputs": [
        {
          "output_type": "execute_result",
          "data": {
            "text/plain": [
              "(800, 2)"
            ]
          },
          "metadata": {},
          "execution_count": 4
        }
      ]
    },
    {
      "cell_type": "code",
      "source": [
        "def fit(x, y):\n",
        "  phi = np.mean(y)\n",
        "  mu0 = np.mean(x[y==0], axis=0)\n",
        "  mu1 = np.mean(x[y==1], axis=0)\n",
        "  n_x = x[y==0] - mu0\n",
        "  p_x = x[y==1] - mu1\n",
        "  sigma = ((n_x.T).dot(n_x) + (p_x.T).dot(p_x))/x.shape[0]\n",
        "  return phi, mu0, mu1, sigma\n",
        "\n",
        "def predict(x):\n",
        "  def _sigmoid(w, b, x):\n",
        "    z = w.dot(x.T) + b\n",
        "    return 1.0 / (1.0 + np.exp(-z))\n",
        "  y_preds = []\n",
        "  for y_pred in _sigmoid(k, b, x):\n",
        "    if y_pred > 0.5:\n",
        "      y_pred = 1.0\n",
        "      y_preds.append(y_pred)\n",
        "    else:\n",
        "      y_pred = 0.0\n",
        "      y_preds.append(y_pred)\n",
        "  return y_preds"
      ],
      "metadata": {
        "id": "np-qCb_efAV8"
      },
      "execution_count": 26,
      "outputs": []
    },
    {
      "cell_type": "code",
      "source": [
        "phi, mu0, mu1, sigma = fit(x_train, y_train)\n",
        "inv_sigma = np.linalg.inv(sigma)\n",
        "k = (inv_sigma).dot(mu1-mu0)\n",
        "b =-1*np.log((1-phi)/phi)+0.5*((mu0.T.dot(np.linalg.inv(sigma))).dot(mu0)-mu1.T.dot(np.linalg.inv(sigma)).dot(mu1))\n",
        "theta = np.append(k, b)"
      ],
      "metadata": {
        "id": "RfbWLKsfgCDY"
      },
      "execution_count": 40,
      "outputs": []
    },
    {
      "cell_type": "code",
      "source": [
        "def plot(x, y, theta, save_path, correction=1.0):\n",
        "    \"\"\"Plot dataset and fitted logistic regression parameters.\n",
        "\n",
        "    Args:\n",
        "        x: Matrix of training examples, one per row.\n",
        "        y: Vector of labels in {0, 1}.\n",
        "        theta: Vector of parameters for logistic regression model.\n",
        "        save_path: Path to save the plot.\n",
        "        correction: Correction factor to apply, if any.\n",
        "    \"\"\"\n",
        "    # Plot dataset\n",
        "    plt.figure()\n",
        "    plt.plot(x[y == 1, -2], x[y == 1, -1], 'bx', linewidth=2)\n",
        "    plt.plot(x[y == 0, -2], x[y == 0, -1], 'go', linewidth=2)\n",
        "\n",
        "    # Plot decision boundary (found by solving for theta^T x = 0)\n",
        "    x1 = np.arange(min(x[:, -2]), max(x[:, -2]), 0.01)\n",
        "    x2 = -(theta[0] / theta[2] + theta[1] / theta[2] * x1\n",
        "           + np.log((2 - correction) / correction) / theta[2])\n",
        "    plt.plot(x1, x2, c='red', linewidth=2)\n",
        "    plt.xlim(x[:, -2].min()-.1, x[:, -2].max()+.1)\n",
        "    plt.ylim(x[:, -1].min()-.1, x[:, -1].max()+.1)\n",
        "\n",
        "    # Add labels and save to disk\n",
        "    plt.xlabel('x1')\n",
        "    plt.ylabel('x2')\n",
        "    plt.savefig(save_path)"
      ],
      "metadata": {
        "id": "c5aNBsmAhSm4"
      },
      "execution_count": 41,
      "outputs": []
    },
    {
      "cell_type": "code",
      "source": [
        "plot(x_train, y_train, theta, 'decision.png')"
      ],
      "metadata": {
        "colab": {
          "base_uri": "https://localhost:8080/",
          "height": 449
        },
        "id": "JVurGWwIiGR0",
        "outputId": "2431b4bc-722f-4a67-a034-3cf3037b17c0"
      },
      "execution_count": 42,
      "outputs": [
        {
          "output_type": "display_data",
          "data": {
            "text/plain": [
              "<Figure size 640x480 with 1 Axes>"
            ],
            "image/png": "[encoded data removed]"
          },
          "metadata": {}
        }
      ]
    },
    {
      "cell_type": "code",
      "source": [],
      "metadata": {
        "id": "ZLKowmVdiLaU"
      },
      "execution_count": 12,
      "outputs": []
    }
  ]
}