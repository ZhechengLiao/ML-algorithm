{
  "nbformat": 4,
  "nbformat_minor": 0,
  "metadata": {
    "colab": {
      "provenance": [],
      "authorship_tag": "ABX9TyOfdChWHTIIacNSOn+ndGSZ",
      "include_colab_link": true
    },
    "kernelspec": {
      "name": "python3",
      "display_name": "Python 3"
    },
    "language_info": {
      "name": "python"
    }
  },
  "cells": [
    {
      "cell_type": "markdown",
      "metadata": {
        "id": "view-in-github",
        "colab_type": "text"
      },
      "source": [
        "<a href=\"https://colab.research.google.com/github/ZhechengLiao/ML-algorithm/blob/master/ML_Algorithm.ipynb\" target=\"_parent\"><img src=\"https://colab.research.google.com/assets/colab-badge.svg\" alt=\"Open In Colab\"/></a>"
      ]
    },
    {
      "cell_type": "markdown",
      "source": [
        "# Linear Regression"
      ],
      "metadata": {
        "id": "I6-YwbMuc_Ik"
      }
    },
    {
      "cell_type": "code",
      "source": [
        "import numpy as np\n",
        "import torch\n",
        "import matplotlib.pyplot as plt\n",
        "from torch.autograd import Variable"
      ],
      "metadata": {
        "id": "hvM1Ky9XdCco"
      },
      "execution_count": 165,
      "outputs": []
    },
    {
      "cell_type": "code",
      "source": [
        "x_values = [i for i in np.random.randn(100)]\n",
        "x_train = torch.tensor(x_values, dtype=torch.float32)\n",
        "x_train = x_train.reshape(-1, 1)\n",
        "\n",
        "y_values = [2*i + 0.5*np.random.randn() for i in x_values]\n",
        "y_train = torch.tensor(y_values, dtype=torch.float32)\n",
        "y_train = y_train.reshape(-1, 1)\n",
        "\n",
        "plt.scatter(x_train, y_train)"
      ],
      "metadata": {
        "colab": {
          "base_uri": "https://localhost:8080/",
          "height": 447
        },
        "id": "xG4bQvlRzc3q",
        "outputId": "defdf55d-6d90-42b3-9aa3-1a00cb12daf0"
      },
      "execution_count": 181,
      "outputs": [
        {
          "output_type": "execute_result",
          "data": {
            "text/plain": [
              "<matplotlib.collections.PathCollection at 0x7f21bbd662c0>"
            ]
          },
          "metadata": {},
          "execution_count": 181
        },
        {
          "output_type": "display_data",
          "data": {
            "text/plain": [
              "<Figure size 640x480 with 1 Axes>"
            ],
            "image/png": "[encoded data removed]"
          },
          "metadata": {}
        }
      ]
    },
    {
      "cell_type": "code",
      "source": [
        "class LinearRegression(torch.nn.Module):\n",
        "  def __init__(self, input_dim, output_dim):\n",
        "    super(LinearRegression, self).__init__()\n",
        "    self.Linear = torch.nn.Linear(input_dim, output_dim)\n",
        "\n",
        "  def forward(self, x):\n",
        "    output = self.Linear(x)\n",
        "    return output"
      ],
      "metadata": {
        "id": "mgCl5vMOdYk2"
      },
      "execution_count": 182,
      "outputs": []
    },
    {
      "cell_type": "code",
      "source": [
        "model = LinearRegression(1, 1)\n",
        "\n",
        "loss = torch.nn.MSELoss()\n",
        "optimizer = torch.optim.SGD(model.parameters(), lr=0.1)"
      ],
      "metadata": {
        "id": "a0eVUFnXiwcw"
      },
      "execution_count": 183,
      "outputs": []
    },
    {
      "cell_type": "code",
      "source": [
        "num_epochs = 10\n",
        "for epoch in range(num_epochs):\n",
        "  optimizer.zero_grad()\n",
        "  out = model(x_train)\n",
        "  l = loss(out, y_train)\n",
        "  l.backward()\n",
        "  optimizer.step()\n",
        "  print(f'epoch:{epoch}, loss:{l}')"
      ],
      "metadata": {
        "colab": {
          "base_uri": "https://localhost:8080/"
        },
        "id": "FYKs4hSDlYc7",
        "outputId": "7d13bcc2-b405-421a-d6af-17081bdb26b7"
      },
      "execution_count": 184,
      "outputs": [
        {
          "output_type": "stream",
          "name": "stdout",
          "text": [
            "epoch:0, loss:1.3548682928085327\n",
            "epoch:1, loss:0.9190996289253235\n",
            "epoch:2, loss:0.655824601650238\n",
            "epoch:3, loss:0.49676254391670227\n",
            "epoch:4, loss:0.4006616473197937\n",
            "epoch:5, loss:0.3425997793674469\n",
            "epoch:6, loss:0.307519793510437\n",
            "epoch:7, loss:0.2863248586654663\n",
            "epoch:8, loss:0.2735190689563751\n",
            "epoch:9, loss:0.2657817602157593\n"
          ]
        }
      ]
    },
    {
      "cell_type": "markdown",
      "source": [
        "# Binary Classfication"
      ],
      "metadata": {
        "id": "b-D1uzCoWasu"
      }
    },
    {
      "cell_type": "code",
      "source": [
        "import torch\n",
        "import torch.nn.functional as F\n",
        "import numpy as np\n",
        "from sklearn import datasets\n",
        "from sklearn.model_selection import train_test_split"
      ],
      "metadata": {
        "id": "hI4EjbWdWZ0R"
      },
      "execution_count": null,
      "outputs": []
    },
    {
      "cell_type": "code",
      "source": [
        "# Get Dataset, split train and test\n",
        "iris = datasets.load_iris()\n",
        "\n",
        "X = torch.tensor(iris.data[:-50, :2], dtype=torch.float32)\n",
        "y = torch.tensor(iris.target[:-50], dtype=torch.float32)\n",
        "X_train, X_test, y_train, y_test = train_test_split(X, y, test_size=0.2)"
      ],
      "metadata": {
        "id": "KMR4f6H2WmGF"
      },
      "execution_count": null,
      "outputs": []
    },
    {
      "cell_type": "code",
      "source": [
        "from torch import nn\n",
        "\n",
        "# Define hypothesis\n",
        "class LogisticRegression(nn.Module):\n",
        "  def __init__(self, input_dim, output_dim):\n",
        "    super(LogisticRegression, self).__init__()\n",
        "    self.linear = torch.nn.Linear(input_dim, output_dim)\n",
        "  def forward(self, x):\n",
        "    outputs = torch.sigmoid(self.linear(x))\n",
        "    return outputs\n",
        "\n",
        "model = LogisticRegression(2, 1)\n",
        "\n",
        "# Define loss and optimizer\n",
        "loss = torch.nn.BCELoss()\n",
        "optimizer = torch.optim.SGD(model.parameters(), lr=0.1)"
      ],
      "metadata": {
        "id": "LPdz8OcpNXeY"
      },
      "execution_count": null,
      "outputs": []
    },
    {
      "cell_type": "code",
      "source": [
        "# Train\n",
        "num_epochs = 10\n",
        "\n",
        "for epoch in range(num_epochs):\n",
        "  optimizer.zero_grad()\n",
        "  output = model(X_train)\n",
        "  l = loss(torch.squeeze(output), y_train)\n",
        "  l.backward()\n",
        "  optimizer.step()\n",
        "\n",
        "  print(f'epoch: {epoch+1}, loss: {l}')\n"
      ],
      "metadata": {
        "colab": {
          "base_uri": "https://localhost:8080/"
        },
        "id": "m4dH5iSEOxZU",
        "outputId": "3bdce67c-ce47-4cfe-fef5-5b71b2e7d916"
      },
      "execution_count": null,
      "outputs": [
        {
          "output_type": "stream",
          "name": "stdout",
          "text": [
            "epoch: 1, loss: 0.297562837600708\n",
            "epoch: 2, loss: 0.2963264584541321\n",
            "epoch: 3, loss: 0.2951018512248993\n",
            "epoch: 4, loss: 0.2938889265060425\n",
            "epoch: 5, loss: 0.2926875054836273\n",
            "epoch: 6, loss: 0.2914974093437195\n",
            "epoch: 7, loss: 0.2903185188770294\n",
            "epoch: 8, loss: 0.289150595664978\n",
            "epoch: 9, loss: 0.28799352049827576\n",
            "epoch: 10, loss: 0.28684723377227783\n"
          ]
        }
      ]
    },
    {
      "cell_type": "code",
      "source": [],
      "metadata": {
        "id": "HWZt16Rnb0FJ"
      },
      "execution_count": null,
      "outputs": []
    }
  ]
}