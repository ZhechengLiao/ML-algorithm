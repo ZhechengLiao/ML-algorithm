{
  "nbformat": 4,
  "nbformat_minor": 0,
  "metadata": {
    "colab": {
      "provenance": [],
      "authorship_tag": "ABX9TyOPD7AzcjqFOq/vaUIiqEJj",
      "include_colab_link": true
    },
    "kernelspec": {
      "name": "python3",
      "display_name": "Python 3"
    },
    "language_info": {
      "name": "python"
    }
  },
  "cells": [
    {
      "cell_type": "markdown",
      "metadata": {
        "id": "view-in-github",
        "colab_type": "text"
      },
      "source": [
        "<a href=\"https://colab.research.google.com/github/ZhechengLiao/ML-algorithm/blob/master/ML_Algorithm.ipynb\" target=\"_parent\"><img src=\"https://colab.research.google.com/assets/colab-badge.svg\" alt=\"Open In Colab\"/></a>"
      ]
    },
    {
      "cell_type": "markdown",
      "source": [
        "# Binary Classfication"
      ],
      "metadata": {
        "id": "b-D1uzCoWasu"
      }
    },
    {
      "cell_type": "code",
      "source": [
        "import torch\n",
        "import torch.nn.functional as F\n",
        "import numpy as np\n",
        "from sklearn import datasets\n",
        "from sklearn.model_selection import train_test_split"
      ],
      "metadata": {
        "id": "hI4EjbWdWZ0R"
      },
      "execution_count": null,
      "outputs": []
    },
    {
      "cell_type": "code",
      "source": [
        "# Get Dataset, split train and test\n",
        "from numpy.matrixlib import test\n",
        "iris = datasets.load_iris()\n",
        "\n",
        "X = torch.tensor(iris.data[:-50, :2], dtype=torch.float32)\n",
        "y = torch.tensor(iris.target[:-50], dtype=torch.float32)\n",
        "X_train, X_test, y_train, y_test = train_test_split(X, y, test_size=0.2)"
      ],
      "metadata": {
        "id": "KMR4f6H2WmGF"
      },
      "execution_count": 112,
      "outputs": []
    },
    {
      "cell_type": "code",
      "source": [
        "from torch import nn\n",
        "\n",
        "# Define hypothesis\n",
        "class LogisticRegression(nn.Module):\n",
        "  def __init__(self, input_dim, output_dim):\n",
        "    super(LogisticRegression, self).__init__()\n",
        "    self.linear = torch.nn.Linear(input_dim, output_dim)\n",
        "  def forward(self, x):\n",
        "    outputs = torch.sigmoid(self.linear(x))\n",
        "    return outputs\n",
        "\n",
        "model = LogisticRegression(2, 1)\n",
        "\n",
        "# Define loss and optimizer\n",
        "loss = torch.nn.BCELoss()\n",
        "optimizer = torch.optim.SGD(model.parameters(), lr=0.1)"
      ],
      "metadata": {
        "id": "LPdz8OcpNXeY"
      },
      "execution_count": 113,
      "outputs": []
    },
    {
      "cell_type": "code",
      "source": [
        "# Train\n",
        "num_epochs = 100\n",
        "\n",
        "for epoch in range(num_epochs):\n",
        "  optimizer.zero_grad()\n",
        "  output = model(X_train)\n",
        "  l = loss(torch.squeeze(output), y_train)\n",
        "  l.backward()\n",
        "  optimizer.step()\n",
        "\n",
        "  print(f'epoch: {epoch}, loss: {l}')\n"
      ],
      "metadata": {
        "colab": {
          "base_uri": "https://localhost:8080/"
        },
        "id": "m4dH5iSEOxZU",
        "outputId": "2efe733e-58f3-416e-dd02-3ea8dadf1597"
      },
      "execution_count": 114,
      "outputs": [
        {
          "output_type": "stream",
          "name": "stdout",
          "text": [
            "epoch: 0, loss: 1.6528503894805908\n",
            "epoch: 1, loss: 0.8570224046707153\n",
            "epoch: 2, loss: 0.6624171733856201\n",
            "epoch: 3, loss: 0.6553427577018738\n",
            "epoch: 4, loss: 0.6494225859642029\n",
            "epoch: 5, loss: 0.6435962319374084\n",
            "epoch: 6, loss: 0.6378613710403442\n",
            "epoch: 7, loss: 0.6322166919708252\n",
            "epoch: 8, loss: 0.6266604661941528\n",
            "epoch: 9, loss: 0.6211912631988525\n",
            "epoch: 10, loss: 0.6158075332641602\n",
            "epoch: 11, loss: 0.6105078458786011\n",
            "epoch: 12, loss: 0.6052907705307007\n",
            "epoch: 13, loss: 0.60015469789505\n",
            "epoch: 14, loss: 0.5950983762741089\n",
            "epoch: 15, loss: 0.5901203155517578\n",
            "epoch: 16, loss: 0.5852192044258118\n",
            "epoch: 17, loss: 0.5803934335708618\n",
            "epoch: 18, loss: 0.575641930103302\n",
            "epoch: 19, loss: 0.5709632635116577\n",
            "epoch: 20, loss: 0.5663560628890991\n",
            "epoch: 21, loss: 0.5618190765380859\n",
            "epoch: 22, loss: 0.5573511123657227\n",
            "epoch: 23, loss: 0.5529507398605347\n",
            "epoch: 24, loss: 0.548616886138916\n",
            "epoch: 25, loss: 0.5443483591079712\n",
            "epoch: 26, loss: 0.5401438474655151\n",
            "epoch: 27, loss: 0.5360021591186523\n",
            "epoch: 28, loss: 0.5319222211837769\n",
            "epoch: 29, loss: 0.5279029607772827\n",
            "epoch: 30, loss: 0.5239431262016296\n",
            "epoch: 31, loss: 0.520041823387146\n",
            "epoch: 32, loss: 0.516197681427002\n",
            "epoch: 33, loss: 0.5124099850654602\n",
            "epoch: 34, loss: 0.5086774230003357\n",
            "epoch: 35, loss: 0.5049991011619568\n",
            "epoch: 36, loss: 0.5013740658760071\n",
            "epoch: 37, loss: 0.4978012442588806\n",
            "epoch: 38, loss: 0.49427977204322815\n",
            "epoch: 39, loss: 0.4908086359500885\n",
            "epoch: 40, loss: 0.48738694190979004\n",
            "epoch: 41, loss: 0.4840138554573059\n",
            "epoch: 42, loss: 0.48068827390670776\n",
            "epoch: 43, loss: 0.4774095416069031\n",
            "epoch: 44, loss: 0.4741767346858978\n",
            "epoch: 45, loss: 0.47098904848098755\n",
            "epoch: 46, loss: 0.46784552931785583\n",
            "epoch: 47, loss: 0.4647456109523773\n",
            "epoch: 48, loss: 0.4616882801055908\n",
            "epoch: 49, loss: 0.4586728513240814\n",
            "epoch: 50, loss: 0.45569854974746704\n",
            "epoch: 51, loss: 0.45276468992233276\n",
            "epoch: 52, loss: 0.4498705267906189\n",
            "epoch: 53, loss: 0.44701528549194336\n",
            "epoch: 54, loss: 0.4441983699798584\n",
            "epoch: 55, loss: 0.44141897559165955\n",
            "epoch: 56, loss: 0.43867653608322144\n",
            "epoch: 57, loss: 0.4359703063964844\n",
            "epoch: 58, loss: 0.4332997798919678\n",
            "epoch: 59, loss: 0.43066415190696716\n",
            "epoch: 60, loss: 0.42806291580200195\n",
            "epoch: 61, loss: 0.4254953861236572\n",
            "epoch: 62, loss: 0.4229610860347748\n",
            "epoch: 63, loss: 0.4204593300819397\n",
            "epoch: 64, loss: 0.4179896414279938\n",
            "epoch: 65, loss: 0.4155513644218445\n",
            "epoch: 66, loss: 0.413144052028656\n",
            "epoch: 67, loss: 0.4107670783996582\n",
            "epoch: 68, loss: 0.4084199368953705\n",
            "epoch: 69, loss: 0.40610218048095703\n",
            "epoch: 70, loss: 0.40381327271461487\n",
            "epoch: 71, loss: 0.40155261754989624\n",
            "epoch: 72, loss: 0.39931991696357727\n",
            "epoch: 73, loss: 0.39711451530456543\n",
            "epoch: 74, loss: 0.39493611454963684\n",
            "epoch: 75, loss: 0.39278414845466614\n",
            "epoch: 76, loss: 0.3906582295894623\n",
            "epoch: 77, loss: 0.3885578513145447\n",
            "epoch: 78, loss: 0.3864826560020447\n",
            "epoch: 79, loss: 0.38443222641944885\n",
            "epoch: 80, loss: 0.3824060559272766\n",
            "epoch: 81, loss: 0.3804038465023041\n",
            "epoch: 82, loss: 0.3784251809120178\n",
            "epoch: 83, loss: 0.3764696717262268\n",
            "epoch: 84, loss: 0.37453693151474\n",
            "epoch: 85, loss: 0.37262651324272156\n",
            "epoch: 86, loss: 0.3707381784915924\n",
            "epoch: 87, loss: 0.3688715100288391\n",
            "epoch: 88, loss: 0.367026150226593\n",
            "epoch: 89, loss: 0.36520177125930786\n",
            "epoch: 90, loss: 0.36339810490608215\n",
            "epoch: 91, loss: 0.3616146445274353\n",
            "epoch: 92, loss: 0.35985124111175537\n",
            "epoch: 93, loss: 0.3581075072288513\n",
            "epoch: 94, loss: 0.35638314485549927\n",
            "epoch: 95, loss: 0.35467779636383057\n",
            "epoch: 96, loss: 0.3529912829399109\n",
            "epoch: 97, loss: 0.3513231873512268\n",
            "epoch: 98, loss: 0.3496732711791992\n",
            "epoch: 99, loss: 0.34804126620292664\n"
          ]
        }
      ]
    },
    {
      "cell_type": "code",
      "source": [],
      "metadata": {
        "id": "HWZt16Rnb0FJ"
      },
      "execution_count": null,
      "outputs": []
    }
  ]
}